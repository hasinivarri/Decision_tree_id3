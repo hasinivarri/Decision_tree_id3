{
 "cells": [
  {
   "cell_type": "markdown",
   "metadata": {},
   "source": [
    "## Assignment 1\n",
    "### Name:\n",
    "### Roll Number:"
   ]
  },
  {
   "cell_type": "code",
   "execution_count": 1,
   "metadata": {},
   "outputs": [],
   "source": [
    "# import all the necessary libraries here\n",
    "import pandas as pd\n",
    "import numpy as np\n",
    "import matplotlib.pyplot as plt\n",
    "from sklearn.model_selection import train_test_split\n",
    "from sklearn.preprocessing import StandardScaler, LabelEncoder\n",
    "from sklearn.tree import DecisionTreeClassifier, plot_tree\n",
    "from sklearn.metrics import accuracy_score, precision_score, recall_score"
   ]
  },
  {
   "cell_type": "code",
   "execution_count": 2,
   "metadata": {},
   "outputs": [
    {
     "name": "stdout",
     "output_type": "stream",
     "text": [
      "(768, 9)\n"
     ]
    }
   ],
   "source": [
    "df = pd.read_csv('../../dataset/decision-tree.csv')\n",
    "print(df.shape) "
   ]
  },
  {
   "cell_type": "code",
   "execution_count": 3,
   "metadata": {},
   "outputs": [],
   "source": [
    "class Node:\n",
    "    def __init__(self, feature=None, threshold=None, left=None, right=None, value=None):\n",
    "        self.feature = feature  # Index of the feature to split on\n",
    "        self.threshold = threshold  # Threshold value for the split\n",
    "        self.left = left  # Left subtree\n",
    "        self.right = right  # Right subtree\n",
    "        self.value = value  # Class label (for leaf nodes)"
   ]
  },
  {
   "cell_type": "code",
   "execution_count": 4,
   "metadata": {},
   "outputs": [],
   "source": [
    "def entropy(y):\n",
    "    _, counts = np.unique(y, return_counts=True)\n",
    "    probabilities = counts / len(y)\n",
    "    return -np.sum(probabilities * np.log2(probabilities + 1e-10))"
   ]
  },
  {
   "cell_type": "code",
   "execution_count": 5,
   "metadata": {},
   "outputs": [],
   "source": [
    "def information_gain(X, y, feature, threshold):\n",
    "    left_indices = X[:, feature] <= threshold\n",
    "    right_indices = ~left_indices\n",
    "\n",
    "    num_left, num_right = len(y[left_indices]), len(y[right_indices])\n",
    "    total_samples = num_left + num_right\n",
    "\n",
    "    if num_left == 0 or num_right == 0:\n",
    "        return 0  # Avoid division by zero\n",
    "\n",
    "    left_entropy = entropy(y[left_indices])\n",
    "    right_entropy = entropy(y[right_indices])\n",
    "\n",
    "    weight_left = num_left / total_samples\n",
    "    weight_right = num_right / total_samples\n",
    "\n",
    "    weighted_avg_entropy = weight_left * left_entropy + weight_right * right_entropy\n",
    "\n",
    "    parent_entropy = entropy(y)\n",
    "    information_gain = parent_entropy - weighted_avg_entropy\n",
    "\n",
    "    return information_gain"
   ]
  },
  {
   "cell_type": "code",
   "execution_count": 6,
   "metadata": {},
   "outputs": [],
   "source": [
    "def id3(X, y, depth=0, max_depth=5, min_samples_split=2):\n",
    "    num_samples, num_features = X.shape\n",
    "    if depth >= max_depth or num_samples < min_samples_split or len(np.unique(y)) == 1:\n",
    "        unique_classes, class_counts = np.unique(y, return_counts=True)\n",
    "        most_common_class = unique_classes[np.argmax(class_counts)]\n",
    "        return Node(value=most_common_class)\n",
    "\n",
    "    best_feature, best_threshold = None, None\n",
    "    max_info_gain = -1\n",
    "\n",
    "    for feature in range(num_features):\n",
    "        thresholds = np.unique(X[:, feature])\n",
    "        for threshold in thresholds:\n",
    "            info_gain = information_gain(X, y, feature, threshold)\n",
    "            if info_gain > max_info_gain:\n",
    "                max_info_gain = info_gain\n",
    "                best_feature = feature\n",
    "                best_threshold = threshold\n",
    "\n",
    "    if max_info_gain == 0:\n",
    "        unique_classes, class_counts = np.unique(y, return_counts=True)\n",
    "        most_common_class = unique_classes[np.argmax(class_counts)]\n",
    "        return Node(value=most_common_class)\n",
    "\n",
    "    left_indices = X[:, best_feature] <= best_threshold\n",
    "    right_indices = X[:, best_feature] > best_threshold\n",
    "\n",
    "    left_subtree = id3(X[left_indices], y[left_indices], depth + 1, max_depth, min_samples_split)\n",
    "    right_subtree = id3(X[right_indices], y[right_indices], depth + 1, max_depth, min_samples_split)\n",
    "\n",
    "    return Node(feature=best_feature, threshold=best_threshold, left=left_subtree, right=right_subtree)"
   ]
  },
  {
   "cell_type": "code",
   "execution_count": 7,
   "metadata": {},
   "outputs": [],
   "source": [
    "def predict_tree(node, X):\n",
    "    if node.value is not None:\n",
    "        return node.value\n",
    "    if X[node.feature] <= node.threshold:\n",
    "        return predict_tree(node.left, X)\n",
    "    else:\n",
    "        return predict_tree(node.right, X)"
   ]
  },
  {
   "cell_type": "code",
   "execution_count": 8,
   "metadata": {},
   "outputs": [],
   "source": [
    "def accuracy(y_true, y_pred):\n",
    "    return np.sum(y_true == y_pred) / len(y_true)"
   ]
  },
  {
   "cell_type": "code",
   "execution_count": 9,
   "metadata": {},
   "outputs": [],
   "source": [
    "def evaluate_model(tree, X_test, y_test):\n",
    "    y_pred = []\n",
    "    for i in range(X_test.shape[0]):\n",
    "        y_pred.append(predict_tree(tree, X_test[i, :]))\n",
    "    y_pred = np.array(y_pred)\n",
    "    acc = accuracy(y_test, y_pred)\n",
    "    return acc"
   ]
  },
  {
   "cell_type": "code",
   "execution_count": 10,
   "metadata": {},
   "outputs": [],
   "source": [
    "def reduced_error_pruning(node, X_val, y_val):\n",
    "    if node is None:\n",
    "        return\n",
    "    if node.value is not None:\n",
    "        return\n",
    "    if X_val.shape[0] == 0 or y_val.shape[0] == 0:\n",
    "        return\n",
    "\n",
    "    left_val_indices = X_val[:, node.feature] <= node.threshold\n",
    "    right_val_indices = X_val[:, node.feature] > node.threshold\n",
    "\n",
    "    reduced_error_pruning(node.left, X_val[left_val_indices], y_val[left_val_indices])\n",
    "    reduced_error_pruning(node.right, X_val[right_val_indices], y_val[right_val_indices])\n",
    "\n",
    "    # Check if all samples in this node have the same class label\n",
    "    unique_classes = np.unique(y_val)\n",
    "    if len(unique_classes) == 1:\n",
    "        node.value = unique_classes[0]\n",
    "        return\n",
    "\n",
    "    original_accuracy = accuracy(y_val, [predict_tree(node, x) for x in X_val])\n",
    "\n",
    "    # Prune the subtree rooted at this node\n",
    "    node.value = np.argmax(np.bincount(y_val))\n",
    "    \n",
    "    pruned_accuracy = accuracy(y_val, [predict_tree(node, x) for x in X_val])\n",
    "\n",
    "    # If pruning didn't reduce accuracy, keep the subtree; otherwise, restore the original values\n",
    "    if pruned_accuracy < original_accuracy:\n",
    "        node.value = None\n"
   ]
  },
  {
   "cell_type": "code",
   "execution_count": 11,
   "metadata": {},
   "outputs": [],
   "source": [
    "def print_tree(node, feature_names, depth=0):\n",
    "    indent = \"  \" * depth\n",
    "    if node.feature is not None:\n",
    "        print(indent + f\"Split on feature {feature_names[node.feature]} (Threshold: {node.threshold})\")\n",
    "    if node.value is not None:\n",
    "        print(indent + f\"Class: {node.value}\")\n",
    "        return\n",
    "    print_tree(node.left, feature_names, depth + 1)\n",
    "    print_tree(node.right, feature_names, depth + 1)"
   ]
  },
  {
   "cell_type": "code",
   "execution_count": 12,
   "metadata": {},
   "outputs": [],
   "source": [
    "def plot_accuracy_vs_depth(X_train, y_train, X_val, y_val):\n",
    "    max_depths = range(1, 11)\n",
    "    accuracies = []\n",
    "\n",
    "    for max_depth in max_depths:\n",
    "        tree = id3(X_train, y_train, max_depth=max_depth)\n",
    "        reduced_error_pruning(tree, X_val, y_val)\n",
    "        acc = evaluate_model(tree, X_val, y_val)\n",
    "        accuracies.append(acc)\n",
    "\n",
    "    plt.plot(max_depths, accuracies, marker='o')\n",
    "    plt.title('Accuracy vs. Tree Depth')\n",
    "    plt.xlabel('Tree Depth')\n",
    "    plt.ylabel('Accuracy')\n",
    "    plt.grid(True)\n",
    "    plt.show()"
   ]
  },
  {
   "cell_type": "code",
   "execution_count": 13,
   "metadata": {},
   "outputs": [],
   "source": [
    "X_train, X_test, y_train, y_test = train_test_split(df.drop('Outcome', axis=1), df['Outcome'], test_size=0.2, random_state=42)\n",
    "scaler = StandardScaler()\n",
    "X_train = scaler.fit_transform(X_train)\n",
    "X_test = scaler.transform(X_test)"
   ]
  },
  {
   "cell_type": "code",
   "execution_count": 14,
   "metadata": {},
   "outputs": [],
   "source": [
    "le = LabelEncoder()\n",
    "y_train = le.fit_transform(y_train)\n",
    "y_test = le.transform(y_test)"
   ]
  },
  {
   "cell_type": "code",
   "execution_count": 15,
   "metadata": {},
   "outputs": [
    {
     "data": {
      "image/png": "[encoded data removed]",
      "text/plain": [
       "<Figure size 640x480 with 1 Axes>"
      ]
     },
     "metadata": {},
     "output_type": "display_data"
    },
    {
     "name": "stdout",
     "output_type": "stream",
     "text": [
      "Test Accuracy: 0.7857142857142857\n"
     ]
    }
   ],
   "source": [
    "tree = id3(X_train, y_train, max_depth=5)\n",
    "reduced_error_pruning(tree, X_test, y_test)\n",
    "plot_accuracy_vs_depth(X_train, y_train, X_test, y_test)\n",
    "test_accuracy = evaluate_model(tree, X_test, y_test)\n",
    "print(\"Test Accuracy:\", test_accuracy)"
   ]
  },
  {
   "cell_type": "code",
   "execution_count": 16,
   "metadata": {},
   "outputs": [
    {
     "name": "stdout",
     "output_type": "stream",
     "text": [
      "Pruned Decision Tree:\n",
      "Split on feature Glucose (Threshold: 0.19197597627987598)\n",
      "  Split on feature Age (Threshold: -0.42693042854827923)\n",
      "    Split on feature BMI (Threshold: -0.14007537218652463)\n",
      "    Class: 0\n",
      "    Split on feature BMI (Threshold: -0.7477565343270397)\n",
      "      Split on feature BMI (Threshold: -4.135255778599698)\n",
      "        Class: 1\n",
      "        Class: 0\n",
      "      Split on feature Glucose (Threshold: -0.8389853890482045)\n",
      "        Split on feature Glucose (Threshold: -3.775663217558494)\n",
      "        Class: 0\n",
      "        Split on feature DiabetesPedigreeFunction (Threshold: 0.1272601563924316)\n",
      "          Class: 0\n",
      "          Class: 1\n",
      "  Split on feature BMI (Threshold: -0.2693692364717406)\n",
      "    Split on feature Glucose (Threshold: 0.7543185391861017)\n",
      "    Class: 0\n",
      "    Split on feature Glucose (Threshold: 1.379143609081908)\n",
      "    Class: 1\n"
     ]
    }
   ],
   "source": [
    "feature_names = df.columns[:-1]  # Assuming the last column is the target\n",
    "print(\"Pruned Decision Tree:\")\n",
    "print_tree(tree, feature_names)"
   ]
  },
  {
   "cell_type": "code",
   "execution_count": 17,
   "metadata": {},
   "outputs": [
    {
     "name": "stdout",
     "output_type": "stream",
     "text": [
      "Mean Macro Accuracy: 0.7857142857142857\n",
      "Mean Macro Precision: 0.7668518518518519\n",
      "Mean Macro Recall: 0.7646464646464646\n"
     ]
    }
   ],
   "source": [
    "y_pred = [predict_tree(tree, x) for x in X_test]\n",
    "macro_accuracy = accuracy_score(y_test, y_pred)\n",
    "macro_precision = precision_score(y_test, y_pred, average='macro')\n",
    "macro_recall = recall_score(y_test, y_pred, average='macro')\n",
    "print(f\"Mean Macro Accuracy: {macro_accuracy}\")\n",
    "print(f\"Mean Macro Precision: {macro_precision}\")\n",
    "print(f\"Mean Macro Recall: {macro_recall}\")"
   ]
  }
 ],
 "metadata": {
  "kernelspec": {
   "display_name": "Python 3 (ipykernel)",
   "language": "python",
   "name": "python3"
  },
  "language_info": {
   "codemirror_mode": {
    "name": "ipython",
    "version": 3
   },
   "file_extension": ".py",
   "mimetype": "text/x-python",
   "name": "python",
   "nbconvert_exporter": "python",
   "pygments_lexer": "ipython3",
   "version": "3.9.13"
  },
  "vscode": {
   "interpreter": {
    "hash": "3067ead486e059ec00ffe7555bdb889e6e264a24dc711bf108106cc7baee8d5d"
   }
  }
 },
 "nbformat": 4,
 "nbformat_minor": 2
}
